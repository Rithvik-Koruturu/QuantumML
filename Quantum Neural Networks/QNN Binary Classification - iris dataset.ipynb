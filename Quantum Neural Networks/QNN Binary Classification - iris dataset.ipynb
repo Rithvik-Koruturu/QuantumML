{
 "cells": [
  {
   "cell_type": "code",
   "execution_count": 11,
   "id": "5e10ca23-c21f-4961-8f95-34782522f908",
   "metadata": {},
   "outputs": [
    {
     "name": "stdout",
     "output_type": "stream",
     "text": [
      "Requirement already satisfied: pennylane in c:\\users\\rithvikkoruturu\\appdata\\local\\programs\\python\\python310\\lib\\site-packages (0.40.0)\n",
      "Requirement already satisfied: numpy<2.1 in c:\\users\\rithvikkoruturu\\appdata\\local\\programs\\python\\python310\\lib\\site-packages (from pennylane) (1.26.4)\n",
      "Requirement already satisfied: scipy in c:\\users\\rithvikkoruturu\\appdata\\local\\programs\\python\\python310\\lib\\site-packages (from pennylane) (1.14.1)\n",
      "Requirement already satisfied: networkx in c:\\users\\rithvikkoruturu\\appdata\\local\\programs\\python\\python310\\lib\\site-packages (from pennylane) (3.4.2)\n",
      "Requirement already satisfied: rustworkx>=0.14.0 in c:\\users\\rithvikkoruturu\\appdata\\local\\programs\\python\\python310\\lib\\site-packages (from pennylane) (0.16.0)\n",
      "Requirement already satisfied: autograd in c:\\users\\rithvikkoruturu\\appdata\\local\\programs\\python\\python310\\lib\\site-packages (from pennylane) (1.7.0)\n",
      "Requirement already satisfied: tomlkit in c:\\users\\rithvikkoruturu\\appdata\\local\\programs\\python\\python310\\lib\\site-packages (from pennylane) (0.13.2)\n",
      "Requirement already satisfied: appdirs in c:\\users\\rithvikkoruturu\\appdata\\local\\programs\\python\\python310\\lib\\site-packages (from pennylane) (1.4.4)\n",
      "Requirement already satisfied: autoray>=0.6.11 in c:\\users\\rithvikkoruturu\\appdata\\local\\programs\\python\\python310\\lib\\site-packages (from pennylane) (0.7.0)\n",
      "Requirement already satisfied: cachetools in c:\\users\\rithvikkoruturu\\appdata\\local\\programs\\python\\python310\\lib\\site-packages (from pennylane) (5.5.2)\n",
      "Requirement already satisfied: pennylane-lightning>=0.40 in c:\\users\\rithvikkoruturu\\appdata\\local\\programs\\python\\python310\\lib\\site-packages (from pennylane) (0.40.0)\n",
      "Requirement already satisfied: requests in c:\\users\\rithvikkoruturu\\appdata\\local\\programs\\python\\python310\\lib\\site-packages (from pennylane) (2.32.3)\n",
      "Requirement already satisfied: typing-extensions in c:\\users\\rithvikkoruturu\\appdata\\local\\programs\\python\\python310\\lib\\site-packages (from pennylane) (4.12.2)\n",
      "Requirement already satisfied: packaging in c:\\users\\rithvikkoruturu\\appdata\\local\\programs\\python\\python310\\lib\\site-packages (from pennylane) (24.2)\n",
      "Requirement already satisfied: diastatic-malt in c:\\users\\rithvikkoruturu\\appdata\\local\\programs\\python\\python310\\lib\\site-packages (from pennylane) (2.15.2)\n",
      "Requirement already satisfied: scipy-openblas32>=0.3.26 in c:\\users\\rithvikkoruturu\\appdata\\local\\programs\\python\\python310\\lib\\site-packages (from pennylane-lightning>=0.40->pennylane) (0.3.29.0.0)\n",
      "Requirement already satisfied: astunparse in c:\\users\\rithvikkoruturu\\appdata\\local\\programs\\python\\python310\\lib\\site-packages (from diastatic-malt->pennylane) (1.6.3)\n",
      "Requirement already satisfied: gast in c:\\users\\rithvikkoruturu\\appdata\\local\\programs\\python\\python310\\lib\\site-packages (from diastatic-malt->pennylane) (0.6.0)\n",
      "Requirement already satisfied: termcolor in c:\\users\\rithvikkoruturu\\appdata\\local\\programs\\python\\python310\\lib\\site-packages (from diastatic-malt->pennylane) (2.5.0)\n",
      "Requirement already satisfied: charset-normalizer<4,>=2 in c:\\users\\rithvikkoruturu\\appdata\\local\\programs\\python\\python310\\lib\\site-packages (from requests->pennylane) (3.4.0)\n",
      "Requirement already satisfied: idna<4,>=2.5 in c:\\users\\rithvikkoruturu\\appdata\\local\\programs\\python\\python310\\lib\\site-packages (from requests->pennylane) (3.10)\n",
      "Requirement already satisfied: urllib3<3,>=1.21.1 in c:\\users\\rithvikkoruturu\\appdata\\local\\programs\\python\\python310\\lib\\site-packages (from requests->pennylane) (2.2.3)\n",
      "Requirement already satisfied: certifi>=2017.4.17 in c:\\users\\rithvikkoruturu\\appdata\\local\\programs\\python\\python310\\lib\\site-packages (from requests->pennylane) (2024.12.14)\n",
      "Requirement already satisfied: wheel<1.0,>=0.23.0 in c:\\users\\rithvikkoruturu\\appdata\\local\\programs\\python\\python310\\lib\\site-packages (from astunparse->diastatic-malt->pennylane) (0.45.1)\n",
      "Requirement already satisfied: six<2.0,>=1.6.1 in c:\\users\\rithvikkoruturu\\appdata\\local\\programs\\python\\python310\\lib\\site-packages (from astunparse->diastatic-malt->pennylane) (1.17.0)\n"
     ]
    },
    {
     "name": "stderr",
     "output_type": "stream",
     "text": [
      "WARNING: Ignoring invalid distribution - (c:\\users\\rithvikkoruturu\\appdata\\local\\programs\\python\\python310\\lib\\site-packages)\n",
      "WARNING: Ignoring invalid distribution -otebook (c:\\users\\rithvikkoruturu\\appdata\\local\\programs\\python\\python310\\lib\\site-packages)\n",
      "WARNING: Ignoring invalid distribution - (c:\\users\\rithvikkoruturu\\appdata\\local\\programs\\python\\python310\\lib\\site-packages)\n",
      "WARNING: Ignoring invalid distribution -otebook (c:\\users\\rithvikkoruturu\\appdata\\local\\programs\\python\\python310\\lib\\site-packages)\n",
      "WARNING: Ignoring invalid distribution - (c:\\users\\rithvikkoruturu\\appdata\\local\\programs\\python\\python310\\lib\\site-packages)\n",
      "WARNING: Ignoring invalid distribution -otebook (c:\\users\\rithvikkoruturu\\appdata\\local\\programs\\python\\python310\\lib\\site-packages)\n",
      "\n",
      "[notice] A new release of pip is available: 24.3.1 -> 25.0.1\n",
      "[notice] To update, run: python.exe -m pip install --upgrade pip\n"
     ]
    },
    {
     "name": "stdout",
     "output_type": "stream",
     "text": [
      "Requirement already satisfied: pennylane-qiskit in c:\\users\\rithvikkoruturu\\appdata\\local\\programs\\python\\python310\\lib\\site-packages (0.40.1)\n",
      "Requirement already satisfied: qiskit<1.3,>=0.32 in c:\\users\\rithvikkoruturu\\appdata\\local\\programs\\python\\python310\\lib\\site-packages (from pennylane-qiskit) (1.2.4)\n",
      "Requirement already satisfied: qiskit-aer<0.16.1 in c:\\users\\rithvikkoruturu\\appdata\\local\\programs\\python\\python310\\lib\\site-packages (from pennylane-qiskit) (0.16.0)\n",
      "Requirement already satisfied: qiskit-ibm-runtime<=0.29 in c:\\users\\rithvikkoruturu\\appdata\\local\\programs\\python\\python310\\lib\\site-packages (from pennylane-qiskit) (0.29.0)\n",
      "Requirement already satisfied: qiskit-ibm-provider in c:\\users\\rithvikkoruturu\\appdata\\local\\programs\\python\\python310\\lib\\site-packages (from pennylane-qiskit) (0.11.0)\n",
      "Requirement already satisfied: pennylane>=0.38 in c:\\users\\rithvikkoruturu\\appdata\\local\\programs\\python\\python310\\lib\\site-packages (from pennylane-qiskit) (0.40.0)\n",
      "Requirement already satisfied: numpy in c:\\users\\rithvikkoruturu\\appdata\\local\\programs\\python\\python310\\lib\\site-packages (from pennylane-qiskit) (1.26.4)\n",
      "Requirement already satisfied: sympy<1.13 in c:\\users\\rithvikkoruturu\\appdata\\local\\programs\\python\\python310\\lib\\site-packages (from pennylane-qiskit) (1.12.1)\n",
      "Requirement already satisfied: networkx>=2.2 in c:\\users\\rithvikkoruturu\\appdata\\local\\programs\\python\\python310\\lib\\site-packages (from pennylane-qiskit) (3.4.2)\n",
      "Requirement already satisfied: scipy in c:\\users\\rithvikkoruturu\\appdata\\local\\programs\\python\\python310\\lib\\site-packages (from pennylane>=0.38->pennylane-qiskit) (1.14.1)\n",
      "Requirement already satisfied: rustworkx>=0.14.0 in c:\\users\\rithvikkoruturu\\appdata\\local\\programs\\python\\python310\\lib\\site-packages (from pennylane>=0.38->pennylane-qiskit) (0.16.0)\n",
      "Requirement already satisfied: autograd in c:\\users\\rithvikkoruturu\\appdata\\local\\programs\\python\\python310\\lib\\site-packages (from pennylane>=0.38->pennylane-qiskit) (1.7.0)\n",
      "Requirement already satisfied: tomlkit in c:\\users\\rithvikkoruturu\\appdata\\local\\programs\\python\\python310\\lib\\site-packages (from pennylane>=0.38->pennylane-qiskit) (0.13.2)\n",
      "Requirement already satisfied: appdirs in c:\\users\\rithvikkoruturu\\appdata\\local\\programs\\python\\python310\\lib\\site-packages (from pennylane>=0.38->pennylane-qiskit) (1.4.4)\n",
      "Requirement already satisfied: autoray>=0.6.11 in c:\\users\\rithvikkoruturu\\appdata\\local\\programs\\python\\python310\\lib\\site-packages (from pennylane>=0.38->pennylane-qiskit) (0.7.0)\n",
      "Requirement already satisfied: cachetools in c:\\users\\rithvikkoruturu\\appdata\\local\\programs\\python\\python310\\lib\\site-packages (from pennylane>=0.38->pennylane-qiskit) (5.5.2)\n",
      "Requirement already satisfied: pennylane-lightning>=0.40 in c:\\users\\rithvikkoruturu\\appdata\\local\\programs\\python\\python310\\lib\\site-packages (from pennylane>=0.38->pennylane-qiskit) (0.40.0)\n",
      "Requirement already satisfied: requests in c:\\users\\rithvikkoruturu\\appdata\\local\\programs\\python\\python310\\lib\\site-packages (from pennylane>=0.38->pennylane-qiskit) (2.32.3)\n",
      "Requirement already satisfied: typing-extensions in c:\\users\\rithvikkoruturu\\appdata\\local\\programs\\python\\python310\\lib\\site-packages (from pennylane>=0.38->pennylane-qiskit) (4.12.2)\n",
      "Requirement already satisfied: packaging in c:\\users\\rithvikkoruturu\\appdata\\local\\programs\\python\\python310\\lib\\site-packages (from pennylane>=0.38->pennylane-qiskit) (24.2)\n",
      "Requirement already satisfied: diastatic-malt in c:\\users\\rithvikkoruturu\\appdata\\local\\programs\\python\\python310\\lib\\site-packages (from pennylane>=0.38->pennylane-qiskit) (2.15.2)\n",
      "Requirement already satisfied: dill>=0.3 in c:\\users\\rithvikkoruturu\\appdata\\local\\programs\\python\\python310\\lib\\site-packages (from qiskit<1.3,>=0.32->pennylane-qiskit) (0.3.9)\n",
      "Requirement already satisfied: python-dateutil>=2.8.0 in c:\\users\\rithvikkoruturu\\appdata\\local\\programs\\python\\python310\\lib\\site-packages (from qiskit<1.3,>=0.32->pennylane-qiskit) (2.9.0.post0)\n",
      "Requirement already satisfied: stevedore>=3.0.0 in c:\\users\\rithvikkoruturu\\appdata\\local\\programs\\python\\python310\\lib\\site-packages (from qiskit<1.3,>=0.32->pennylane-qiskit) (5.4.1)\n",
      "Requirement already satisfied: symengine<0.14,>=0.11 in c:\\users\\rithvikkoruturu\\appdata\\local\\programs\\python\\python310\\lib\\site-packages (from qiskit<1.3,>=0.32->pennylane-qiskit) (0.13.0)\n",
      "Requirement already satisfied: psutil>=5 in c:\\users\\rithvikkoruturu\\appdata\\local\\programs\\python\\python310\\lib\\site-packages (from qiskit-aer<0.16.1->pennylane-qiskit) (6.1.1)\n",
      "Requirement already satisfied: requests-ntlm>=1.1.0 in c:\\users\\rithvikkoruturu\\appdata\\local\\programs\\python\\python310\\lib\\site-packages (from qiskit-ibm-runtime<=0.29->pennylane-qiskit) (1.3.0)\n",
      "Requirement already satisfied: urllib3>=1.21.1 in c:\\users\\rithvikkoruturu\\appdata\\local\\programs\\python\\python310\\lib\\site-packages (from qiskit-ibm-runtime<=0.29->pennylane-qiskit) (2.2.3)\n",
      "Requirement already satisfied: websocket-client>=1.5.1 in c:\\users\\rithvikkoruturu\\appdata\\local\\programs\\python\\python310\\lib\\site-packages (from qiskit-ibm-runtime<=0.29->pennylane-qiskit) (1.8.0)\n",
      "Requirement already satisfied: ibm-platform-services>=0.22.6 in c:\\users\\rithvikkoruturu\\appdata\\local\\programs\\python\\python310\\lib\\site-packages (from qiskit-ibm-runtime<=0.29->pennylane-qiskit) (0.61.0)\n",
      "Requirement already satisfied: pydantic>=2.5.0 in c:\\users\\rithvikkoruturu\\appdata\\local\\programs\\python\\python310\\lib\\site-packages (from qiskit-ibm-runtime<=0.29->pennylane-qiskit) (2.10.6)\n",
      "Requirement already satisfied: mpmath<1.4.0,>=1.1.0 in c:\\users\\rithvikkoruturu\\appdata\\local\\programs\\python\\python310\\lib\\site-packages (from sympy<1.13->pennylane-qiskit) (1.3.0)\n",
      "Requirement already satisfied: websockets>=10.0 in c:\\users\\rithvikkoruturu\\appdata\\local\\programs\\python\\python310\\lib\\site-packages (from qiskit-ibm-provider->pennylane-qiskit) (15.0.1)\n",
      "Requirement already satisfied: ibm_cloud_sdk_core<4.0.0,>=3.22.1 in c:\\users\\rithvikkoruturu\\appdata\\local\\programs\\python\\python310\\lib\\site-packages (from ibm-platform-services>=0.22.6->qiskit-ibm-runtime<=0.29->pennylane-qiskit) (3.23.0)\n",
      "Requirement already satisfied: scipy-openblas32>=0.3.26 in c:\\users\\rithvikkoruturu\\appdata\\local\\programs\\python\\python310\\lib\\site-packages (from pennylane-lightning>=0.40->pennylane>=0.38->pennylane-qiskit) (0.3.29.0.0)\n",
      "Requirement already satisfied: annotated-types>=0.6.0 in c:\\users\\rithvikkoruturu\\appdata\\local\\programs\\python\\python310\\lib\\site-packages (from pydantic>=2.5.0->qiskit-ibm-runtime<=0.29->pennylane-qiskit) (0.7.0)\n",
      "Requirement already satisfied: pydantic-core==2.27.2 in c:\\users\\rithvikkoruturu\\appdata\\local\\programs\\python\\python310\\lib\\site-packages (from pydantic>=2.5.0->qiskit-ibm-runtime<=0.29->pennylane-qiskit) (2.27.2)\n",
      "Requirement already satisfied: six>=1.5 in c:\\users\\rithvikkoruturu\\appdata\\local\\programs\\python\\python310\\lib\\site-packages (from python-dateutil>=2.8.0->qiskit<1.3,>=0.32->pennylane-qiskit) (1.17.0)\n",
      "Requirement already satisfied: charset-normalizer<4,>=2 in c:\\users\\rithvikkoruturu\\appdata\\local\\programs\\python\\python310\\lib\\site-packages (from requests->pennylane>=0.38->pennylane-qiskit) (3.4.0)\n",
      "Requirement already satisfied: idna<4,>=2.5 in c:\\users\\rithvikkoruturu\\appdata\\local\\programs\\python\\python310\\lib\\site-packages (from requests->pennylane>=0.38->pennylane-qiskit) (3.10)\n",
      "Requirement already satisfied: certifi>=2017.4.17 in c:\\users\\rithvikkoruturu\\appdata\\local\\programs\\python\\python310\\lib\\site-packages (from requests->pennylane>=0.38->pennylane-qiskit) (2024.12.14)\n",
      "Requirement already satisfied: cryptography>=1.3 in c:\\users\\rithvikkoruturu\\appdata\\local\\programs\\python\\python310\\lib\\site-packages (from requests-ntlm>=1.1.0->qiskit-ibm-runtime<=0.29->pennylane-qiskit) (44.0.2)\n",
      "Requirement already satisfied: pyspnego>=0.4.0 in c:\\users\\rithvikkoruturu\\appdata\\local\\programs\\python\\python310\\lib\\site-packages (from requests-ntlm>=1.1.0->qiskit-ibm-runtime<=0.29->pennylane-qiskit) (0.11.2)\n",
      "Requirement already satisfied: pbr>=2.0.0 in c:\\users\\rithvikkoruturu\\appdata\\local\\programs\\python\\python310\\lib\\site-packages (from stevedore>=3.0.0->qiskit<1.3,>=0.32->pennylane-qiskit) (6.1.1)\n",
      "Requirement already satisfied: astunparse in c:\\users\\rithvikkoruturu\\appdata\\local\\programs\\python\\python310\\lib\\site-packages (from diastatic-malt->pennylane>=0.38->pennylane-qiskit) (1.6.3)\n",
      "Requirement already satisfied: gast in c:\\users\\rithvikkoruturu\\appdata\\local\\programs\\python\\python310\\lib\\site-packages (from diastatic-malt->pennylane>=0.38->pennylane-qiskit) (0.6.0)\n",
      "Requirement already satisfied: termcolor in c:\\users\\rithvikkoruturu\\appdata\\local\\programs\\python\\python310\\lib\\site-packages (from diastatic-malt->pennylane>=0.38->pennylane-qiskit) (2.5.0)\n",
      "Requirement already satisfied: cffi>=1.12 in c:\\users\\rithvikkoruturu\\appdata\\local\\programs\\python\\python310\\lib\\site-packages (from cryptography>=1.3->requests-ntlm>=1.1.0->qiskit-ibm-runtime<=0.29->pennylane-qiskit) (1.17.1)\n",
      "Requirement already satisfied: PyJWT<3.0.0,>=2.8.0 in c:\\users\\rithvikkoruturu\\appdata\\local\\programs\\python\\python310\\lib\\site-packages (from ibm_cloud_sdk_core<4.0.0,>=3.22.1->ibm-platform-services>=0.22.6->qiskit-ibm-runtime<=0.29->pennylane-qiskit) (2.10.1)\n",
      "Requirement already satisfied: setuptools in c:\\users\\rithvikkoruturu\\appdata\\local\\programs\\python\\python310\\lib\\site-packages (from pbr>=2.0.0->stevedore>=3.0.0->qiskit<1.3,>=0.32->pennylane-qiskit) (75.6.0)\n",
      "Requirement already satisfied: sspilib>=0.1.0 in c:\\users\\rithvikkoruturu\\appdata\\local\\programs\\python\\python310\\lib\\site-packages (from pyspnego>=0.4.0->requests-ntlm>=1.1.0->qiskit-ibm-runtime<=0.29->pennylane-qiskit) (0.2.0)\n",
      "Requirement already satisfied: wheel<1.0,>=0.23.0 in c:\\users\\rithvikkoruturu\\appdata\\local\\programs\\python\\python310\\lib\\site-packages (from astunparse->diastatic-malt->pennylane>=0.38->pennylane-qiskit) (0.45.1)\n",
      "Requirement already satisfied: pycparser in c:\\users\\rithvikkoruturu\\appdata\\local\\programs\\python\\python310\\lib\\site-packages (from cffi>=1.12->cryptography>=1.3->requests-ntlm>=1.1.0->qiskit-ibm-runtime<=0.29->pennylane-qiskit) (2.22)\n"
     ]
    },
    {
     "name": "stderr",
     "output_type": "stream",
     "text": [
      "WARNING: Ignoring invalid distribution - (c:\\users\\rithvikkoruturu\\appdata\\local\\programs\\python\\python310\\lib\\site-packages)\n",
      "WARNING: Ignoring invalid distribution -otebook (c:\\users\\rithvikkoruturu\\appdata\\local\\programs\\python\\python310\\lib\\site-packages)\n",
      "WARNING: Ignoring invalid distribution - (c:\\users\\rithvikkoruturu\\appdata\\local\\programs\\python\\python310\\lib\\site-packages)\n",
      "WARNING: Ignoring invalid distribution -otebook (c:\\users\\rithvikkoruturu\\appdata\\local\\programs\\python\\python310\\lib\\site-packages)\n",
      "WARNING: Ignoring invalid distribution - (c:\\users\\rithvikkoruturu\\appdata\\local\\programs\\python\\python310\\lib\\site-packages)\n",
      "WARNING: Ignoring invalid distribution -otebook (c:\\users\\rithvikkoruturu\\appdata\\local\\programs\\python\\python310\\lib\\site-packages)\n",
      "\n",
      "[notice] A new release of pip is available: 24.3.1 -> 25.0.1\n",
      "[notice] To update, run: python.exe -m pip install --upgrade pip\n"
     ]
    },
    {
     "name": "stdout",
     "output_type": "stream",
     "text": [
      "Requirement already satisfied: numpy in c:\\users\\rithvikkoruturu\\appdata\\local\\programs\\python\\python310\\lib\\site-packages (1.26.4)\n"
     ]
    },
    {
     "name": "stderr",
     "output_type": "stream",
     "text": [
      "WARNING: Ignoring invalid distribution - (c:\\users\\rithvikkoruturu\\appdata\\local\\programs\\python\\python310\\lib\\site-packages)\n",
      "WARNING: Ignoring invalid distribution -otebook (c:\\users\\rithvikkoruturu\\appdata\\local\\programs\\python\\python310\\lib\\site-packages)\n",
      "WARNING: Ignoring invalid distribution - (c:\\users\\rithvikkoruturu\\appdata\\local\\programs\\python\\python310\\lib\\site-packages)\n",
      "WARNING: Ignoring invalid distribution -otebook (c:\\users\\rithvikkoruturu\\appdata\\local\\programs\\python\\python310\\lib\\site-packages)\n",
      "WARNING: Ignoring invalid distribution - (c:\\users\\rithvikkoruturu\\appdata\\local\\programs\\python\\python310\\lib\\site-packages)\n",
      "WARNING: Ignoring invalid distribution -otebook (c:\\users\\rithvikkoruturu\\appdata\\local\\programs\\python\\python310\\lib\\site-packages)\n",
      "\n",
      "[notice] A new release of pip is available: 24.3.1 -> 25.0.1\n",
      "[notice] To update, run: python.exe -m pip install --upgrade pip\n"
     ]
    }
   ],
   "source": [
    "!pip install pennylane\n",
    "!pip install pennylane-qiskit\n",
    "!pip install numpy"
   ]
  },
  {
   "cell_type": "code",
   "execution_count": 12,
   "id": "ce190fab-188d-4390-9740-cfd4f6afc946",
   "metadata": {},
   "outputs": [],
   "source": [
    "import pennylane as qml\n",
    "import numpy as np\n",
    "from pennylane import numpy as pnp\n",
    "from sklearn.datasets import load_iris\n",
    "from sklearn.model_selection import train_test_split\n",
    "from sklearn.preprocessing import StandardScaler\n",
    "from sklearn.metrics import accuracy_score\n",
    "import matplotlib.pyplot as plt"
   ]
  },
  {
   "cell_type": "code",
   "execution_count": 13,
   "id": "3c0e397a-3f35-4441-9009-3c8062bfa958",
   "metadata": {},
   "outputs": [],
   "source": [
    "iris = load_iris()\n",
    "X = iris.data[:100]\n",
    "y = iris.target[:100]"
   ]
  },
  {
   "cell_type": "code",
   "execution_count": 14,
   "id": "6845651a-204d-42f1-a264-ec49cac1e0ca",
   "metadata": {},
   "outputs": [],
   "source": [
    "scaler = StandardScaler()\n",
    "X = scaler.fit_transform(X)\n",
    "X_train, X_test, y_train, y_test = train_test_split(X, y, test_size=0.2)"
   ]
  },
  {
   "cell_type": "code",
   "execution_count": 15,
   "id": "c239b2b4-328d-43ad-a04d-a8b58c899cd1",
   "metadata": {},
   "outputs": [],
   "source": [
    "dev = qml.device(\"default.qubit\", wires=2)"
   ]
  },
  {
   "cell_type": "code",
   "execution_count": 16,
   "id": "26ec54d6-30e7-4d95-b03c-44378ade483e",
   "metadata": {},
   "outputs": [],
   "source": [
    "@qml.qnode(dev)\n",
    "def quantum_circuit(weights, x=None):\n",
    "    # Feature encoding (rotation gates based on the input features)\n",
    "    qml.Rot(x[0], x[1], x[0], wires=0)\n",
    "    qml.Rot(x[1], x[0], x[1], wires=1)\n",
    "\n",
    "    # Apply variational circuit (a simple Ansatz)\n",
    "    qml.CNOT(wires=[0, 1])  # CNOT gate\n",
    "    qml.Rot(weights[0], weights[1], weights[2], wires=0)\n",
    "    qml.Rot(weights[3], weights[4], weights[5], wires=1)\n",
    "\n",
    "    # Measurement\n",
    "    return qml.expval(qml.PauliZ(0))"
   ]
  },
  {
   "cell_type": "code",
   "execution_count": 17,
   "id": "113594e6-9502-4fed-9f14-29afe61febfe",
   "metadata": {},
   "outputs": [
    {
     "name": "stdout",
     "output_type": "stream",
     "text": [
      "(<Figure size 600x300 with 1 Axes>, <Axes: >)\n"
     ]
    },
    {
     "data": {
      "image/png": "[encoded data removed]",
      "text/plain": [
       "<Figure size 600x300 with 1 Axes>"
      ]
     },
     "metadata": {},
     "output_type": "display_data"
    }
   ],
   "source": [
    "cd5=qml.draw_mpl(quantum_circuit)(np.random.randn(6), x=X[0])\n",
    "print(cd5)"
   ]
  },
  {
   "cell_type": "code",
   "execution_count": 20,
   "id": "c36f21ff-7dd7-4246-aece-a6dc0fa502f0",
   "metadata": {},
   "outputs": [],
   "source": [
    "from scipy.optimize import minimize\n",
    "\n",
    "def cost_function(weights, X_train, y_train):\n",
    "    predictions = []\n",
    "    for x in X_train:\n",
    "        pred = quantum_circuit(weights, x=x)\n",
    "        predictions.append(pred)\n",
    "\n",
    "    predictions = np.array(predictions)\n",
    "    # Convert predictions to binary (threshold at 0)\n",
    "    predictions = np.where(predictions > 0, 1, 0)\n",
    "    return np.mean((predictions - y_train) ** 2)  # Mean squared error\n",
    "\n",
    "# 5. Initialize weights randomly and train the model\n",
    "init_weights = np.random.randn(6)  # 6 weights for 2 qubits\n",
    "optimizer = minimize(cost_function, init_weights, args=(X_train, y_train), method=\"COBYLA\")\n",
    "\n",
    "# 6. Make predictions on the test set\n",
    "test_predictions = []\n",
    "for x in X_test:\n",
    "    pred = quantum_circuit(optimizer.x, x=x)\n",
    "    test_predictions.append(pred)\n"
   ]
  },
  {
   "cell_type": "code",
   "execution_count": 21,
   "id": "0445e958-461d-45e0-94c7-761cc9d938a9",
   "metadata": {},
   "outputs": [
    {
     "name": "stdout",
     "output_type": "stream",
     "text": [
      "Test Accuracy: 0.7500\n"
     ]
    }
   ],
   "source": [
    "test_predictions = np.array(test_predictions)\n",
    "test_predictions = np.where(test_predictions > 0, 1, 0)\n",
    "\n",
    "# 7. Evaluate accuracy\n",
    "accuracy = accuracy_score(y_test, test_predictions)\n",
    "print(f\"Test Accuracy: {accuracy:.4f}\")"
   ]
  }
 ],
 "metadata": {
  "kernelspec": {
   "display_name": "pennylane",
   "language": "python",
   "name": "pennylane"
  },
  "language_info": {
   "codemirror_mode": {
    "name": "ipython",
    "version": 3
   },
   "file_extension": ".py",
   "mimetype": "text/x-python",
   "name": "python",
   "nbconvert_exporter": "python",
   "pygments_lexer": "ipython3",
   "version": "3.10.0"
  },
  "widgets": {
   "application/vnd.jupyter.widget-state+json": {
    "state": {},
    "version_major": 2,
    "version_minor": 0
   }
  }
 },
 "nbformat": 4,
 "nbformat_minor": 5
}
