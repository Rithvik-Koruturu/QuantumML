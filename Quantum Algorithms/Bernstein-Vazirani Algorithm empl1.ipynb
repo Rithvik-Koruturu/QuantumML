{
 "cells": [
  {
   "cell_type": "code",
   "execution_count": 1,
   "id": "5c423f16-698c-46d3-8cd5-8bec10534ddc",
   "metadata": {},
   "outputs": [
    {
     "name": "stdout",
     "output_type": "stream",
     "text": [
      "Requirement already satisfied: pennylane in c:\\users\\rithvikkoruturu\\appdata\\local\\programs\\python\\python310\\lib\\site-packages (0.40.0)\n",
      "Requirement already satisfied: numpy<2.1 in c:\\users\\rithvikkoruturu\\appdata\\local\\programs\\python\\python310\\lib\\site-packages (from pennylane) (1.26.4)\n",
      "Requirement already satisfied: scipy in c:\\users\\rithvikkoruturu\\appdata\\local\\programs\\python\\python310\\lib\\site-packages (from pennylane) (1.14.1)\n",
      "Requirement already satisfied: networkx in c:\\users\\rithvikkoruturu\\appdata\\local\\programs\\python\\python310\\lib\\site-packages (from pennylane) (3.4.2)\n",
      "Requirement already satisfied: rustworkx>=0.14.0 in c:\\users\\rithvikkoruturu\\appdata\\local\\programs\\python\\python310\\lib\\site-packages (from pennylane) (0.16.0)\n",
      "Requirement already satisfied: autograd in c:\\users\\rithvikkoruturu\\appdata\\local\\programs\\python\\python310\\lib\\site-packages (from pennylane) (1.7.0)\n",
      "Requirement already satisfied: tomlkit in c:\\users\\rithvikkoruturu\\appdata\\local\\programs\\python\\python310\\lib\\site-packages (from pennylane) (0.13.2)\n",
      "Requirement already satisfied: appdirs in c:\\users\\rithvikkoruturu\\appdata\\local\\programs\\python\\python310\\lib\\site-packages (from pennylane) (1.4.4)\n",
      "Requirement already satisfied: autoray>=0.6.11 in c:\\users\\rithvikkoruturu\\appdata\\local\\programs\\python\\python310\\lib\\site-packages (from pennylane) (0.7.0)\n",
      "Requirement already satisfied: cachetools in c:\\users\\rithvikkoruturu\\appdata\\local\\programs\\python\\python310\\lib\\site-packages (from pennylane) (5.5.2)\n",
      "Requirement already satisfied: pennylane-lightning>=0.40 in c:\\users\\rithvikkoruturu\\appdata\\local\\programs\\python\\python310\\lib\\site-packages (from pennylane) (0.40.0)\n",
      "Requirement already satisfied: requests in c:\\users\\rithvikkoruturu\\appdata\\local\\programs\\python\\python310\\lib\\site-packages (from pennylane) (2.32.3)\n",
      "Requirement already satisfied: typing-extensions in c:\\users\\rithvikkoruturu\\appdata\\local\\programs\\python\\python310\\lib\\site-packages (from pennylane) (4.12.2)\n",
      "Requirement already satisfied: packaging in c:\\users\\rithvikkoruturu\\appdata\\local\\programs\\python\\python310\\lib\\site-packages (from pennylane) (24.2)\n",
      "Requirement already satisfied: diastatic-malt in c:\\users\\rithvikkoruturu\\appdata\\local\\programs\\python\\python310\\lib\\site-packages (from pennylane) (2.15.2)\n",
      "Requirement already satisfied: scipy-openblas32>=0.3.26 in c:\\users\\rithvikkoruturu\\appdata\\local\\programs\\python\\python310\\lib\\site-packages (from pennylane-lightning>=0.40->pennylane) (0.3.29.0.0)\n",
      "Requirement already satisfied: astunparse in c:\\users\\rithvikkoruturu\\appdata\\local\\programs\\python\\python310\\lib\\site-packages (from diastatic-malt->pennylane) (1.6.3)\n",
      "Requirement already satisfied: gast in c:\\users\\rithvikkoruturu\\appdata\\local\\programs\\python\\python310\\lib\\site-packages (from diastatic-malt->pennylane) (0.6.0)\n",
      "Requirement already satisfied: termcolor in c:\\users\\rithvikkoruturu\\appdata\\local\\programs\\python\\python310\\lib\\site-packages (from diastatic-malt->pennylane) (2.5.0)\n",
      "Requirement already satisfied: charset-normalizer<4,>=2 in c:\\users\\rithvikkoruturu\\appdata\\local\\programs\\python\\python310\\lib\\site-packages (from requests->pennylane) (3.4.0)\n",
      "Requirement already satisfied: idna<4,>=2.5 in c:\\users\\rithvikkoruturu\\appdata\\local\\programs\\python\\python310\\lib\\site-packages (from requests->pennylane) (3.10)\n",
      "Requirement already satisfied: urllib3<3,>=1.21.1 in c:\\users\\rithvikkoruturu\\appdata\\local\\programs\\python\\python310\\lib\\site-packages (from requests->pennylane) (2.2.3)\n",
      "Requirement already satisfied: certifi>=2017.4.17 in c:\\users\\rithvikkoruturu\\appdata\\local\\programs\\python\\python310\\lib\\site-packages (from requests->pennylane) (2024.12.14)\n",
      "Requirement already satisfied: wheel<1.0,>=0.23.0 in c:\\users\\rithvikkoruturu\\appdata\\local\\programs\\python\\python310\\lib\\site-packages (from astunparse->diastatic-malt->pennylane) (0.45.1)\n",
      "Requirement already satisfied: six<2.0,>=1.6.1 in c:\\users\\rithvikkoruturu\\appdata\\local\\programs\\python\\python310\\lib\\site-packages (from astunparse->diastatic-malt->pennylane) (1.17.0)\n"
     ]
    },
    {
     "name": "stderr",
     "output_type": "stream",
     "text": [
      "WARNING: Ignoring invalid distribution - (c:\\users\\rithvikkoruturu\\appdata\\local\\programs\\python\\python310\\lib\\site-packages)\n",
      "WARNING: Ignoring invalid distribution -otebook (c:\\users\\rithvikkoruturu\\appdata\\local\\programs\\python\\python310\\lib\\site-packages)\n",
      "WARNING: Ignoring invalid distribution - (c:\\users\\rithvikkoruturu\\appdata\\local\\programs\\python\\python310\\lib\\site-packages)\n",
      "WARNING: Ignoring invalid distribution -otebook (c:\\users\\rithvikkoruturu\\appdata\\local\\programs\\python\\python310\\lib\\site-packages)\n",
      "WARNING: Ignoring invalid distribution - (c:\\users\\rithvikkoruturu\\appdata\\local\\programs\\python\\python310\\lib\\site-packages)\n",
      "WARNING: Ignoring invalid distribution -otebook (c:\\users\\rithvikkoruturu\\appdata\\local\\programs\\python\\python310\\lib\\site-packages)\n",
      "\n",
      "[notice] A new release of pip is available: 24.3.1 -> 25.0.1\n",
      "[notice] To update, run: python.exe -m pip install --upgrade pip\n"
     ]
    },
    {
     "name": "stdout",
     "output_type": "stream",
     "text": [
      "Requirement already satisfied: pennylane-qiskit in c:\\users\\rithvikkoruturu\\appdata\\local\\programs\\python\\python310\\lib\\site-packages (0.40.1)\n",
      "Requirement already satisfied: qiskit<1.3,>=0.32 in c:\\users\\rithvikkoruturu\\appdata\\local\\programs\\python\\python310\\lib\\site-packages (from pennylane-qiskit) (1.2.4)\n",
      "Requirement already satisfied: qiskit-aer<0.16.1 in c:\\users\\rithvikkoruturu\\appdata\\local\\programs\\python\\python310\\lib\\site-packages (from pennylane-qiskit) (0.16.0)\n",
      "Requirement already satisfied: qiskit-ibm-runtime<=0.29 in c:\\users\\rithvikkoruturu\\appdata\\local\\programs\\python\\python310\\lib\\site-packages (from pennylane-qiskit) (0.29.0)\n",
      "Requirement already satisfied: qiskit-ibm-provider in c:\\users\\rithvikkoruturu\\appdata\\local\\programs\\python\\python310\\lib\\site-packages (from pennylane-qiskit) (0.11.0)\n",
      "Requirement already satisfied: pennylane>=0.38 in c:\\users\\rithvikkoruturu\\appdata\\local\\programs\\python\\python310\\lib\\site-packages (from pennylane-qiskit) (0.40.0)\n",
      "Requirement already satisfied: numpy in c:\\users\\rithvikkoruturu\\appdata\\local\\programs\\python\\python310\\lib\\site-packages (from pennylane-qiskit) (1.26.4)\n",
      "Requirement already satisfied: sympy<1.13 in c:\\users\\rithvikkoruturu\\appdata\\local\\programs\\python\\python310\\lib\\site-packages (from pennylane-qiskit) (1.12.1)\n",
      "Requirement already satisfied: networkx>=2.2 in c:\\users\\rithvikkoruturu\\appdata\\local\\programs\\python\\python310\\lib\\site-packages (from pennylane-qiskit) (3.4.2)\n",
      "Requirement already satisfied: scipy in c:\\users\\rithvikkoruturu\\appdata\\local\\programs\\python\\python310\\lib\\site-packages (from pennylane>=0.38->pennylane-qiskit) (1.14.1)\n",
      "Requirement already satisfied: rustworkx>=0.14.0 in c:\\users\\rithvikkoruturu\\appdata\\local\\programs\\python\\python310\\lib\\site-packages (from pennylane>=0.38->pennylane-qiskit) (0.16.0)\n",
      "Requirement already satisfied: autograd in c:\\users\\rithvikkoruturu\\appdata\\local\\programs\\python\\python310\\lib\\site-packages (from pennylane>=0.38->pennylane-qiskit) (1.7.0)\n",
      "Requirement already satisfied: tomlkit in c:\\users\\rithvikkoruturu\\appdata\\local\\programs\\python\\python310\\lib\\site-packages (from pennylane>=0.38->pennylane-qiskit) (0.13.2)\n",
      "Requirement already satisfied: appdirs in c:\\users\\rithvikkoruturu\\appdata\\local\\programs\\python\\python310\\lib\\site-packages (from pennylane>=0.38->pennylane-qiskit) (1.4.4)\n",
      "Requirement already satisfied: autoray>=0.6.11 in c:\\users\\rithvikkoruturu\\appdata\\local\\programs\\python\\python310\\lib\\site-packages (from pennylane>=0.38->pennylane-qiskit) (0.7.0)\n",
      "Requirement already satisfied: cachetools in c:\\users\\rithvikkoruturu\\appdata\\local\\programs\\python\\python310\\lib\\site-packages (from pennylane>=0.38->pennylane-qiskit) (5.5.2)\n",
      "Requirement already satisfied: pennylane-lightning>=0.40 in c:\\users\\rithvikkoruturu\\appdata\\local\\programs\\python\\python310\\lib\\site-packages (from pennylane>=0.38->pennylane-qiskit) (0.40.0)\n",
      "Requirement already satisfied: requests in c:\\users\\rithvikkoruturu\\appdata\\local\\programs\\python\\python310\\lib\\site-packages (from pennylane>=0.38->pennylane-qiskit) (2.32.3)\n",
      "Requirement already satisfied: typing-extensions in c:\\users\\rithvikkoruturu\\appdata\\local\\programs\\python\\python310\\lib\\site-packages (from pennylane>=0.38->pennylane-qiskit) (4.12.2)\n",
      "Requirement already satisfied: packaging in c:\\users\\rithvikkoruturu\\appdata\\local\\programs\\python\\python310\\lib\\site-packages (from pennylane>=0.38->pennylane-qiskit) (24.2)\n",
      "Requirement already satisfied: diastatic-malt in c:\\users\\rithvikkoruturu\\appdata\\local\\programs\\python\\python310\\lib\\site-packages (from pennylane>=0.38->pennylane-qiskit) (2.15.2)\n",
      "Requirement already satisfied: dill>=0.3 in c:\\users\\rithvikkoruturu\\appdata\\local\\programs\\python\\python310\\lib\\site-packages (from qiskit<1.3,>=0.32->pennylane-qiskit) (0.3.9)\n",
      "Requirement already satisfied: python-dateutil>=2.8.0 in c:\\users\\rithvikkoruturu\\appdata\\local\\programs\\python\\python310\\lib\\site-packages (from qiskit<1.3,>=0.32->pennylane-qiskit) (2.9.0.post0)\n",
      "Requirement already satisfied: stevedore>=3.0.0 in c:\\users\\rithvikkoruturu\\appdata\\local\\programs\\python\\python310\\lib\\site-packages (from qiskit<1.3,>=0.32->pennylane-qiskit) (5.4.1)\n",
      "Requirement already satisfied: symengine<0.14,>=0.11 in c:\\users\\rithvikkoruturu\\appdata\\local\\programs\\python\\python310\\lib\\site-packages (from qiskit<1.3,>=0.32->pennylane-qiskit) (0.13.0)\n",
      "Requirement already satisfied: psutil>=5 in c:\\users\\rithvikkoruturu\\appdata\\local\\programs\\python\\python310\\lib\\site-packages (from qiskit-aer<0.16.1->pennylane-qiskit) (6.1.1)\n",
      "Requirement already satisfied: requests-ntlm>=1.1.0 in c:\\users\\rithvikkoruturu\\appdata\\local\\programs\\python\\python310\\lib\\site-packages (from qiskit-ibm-runtime<=0.29->pennylane-qiskit) (1.3.0)\n",
      "Requirement already satisfied: urllib3>=1.21.1 in c:\\users\\rithvikkoruturu\\appdata\\local\\programs\\python\\python310\\lib\\site-packages (from qiskit-ibm-runtime<=0.29->pennylane-qiskit) (2.2.3)\n",
      "Requirement already satisfied: websocket-client>=1.5.1 in c:\\users\\rithvikkoruturu\\appdata\\local\\programs\\python\\python310\\lib\\site-packages (from qiskit-ibm-runtime<=0.29->pennylane-qiskit) (1.8.0)\n",
      "Requirement already satisfied: ibm-platform-services>=0.22.6 in c:\\users\\rithvikkoruturu\\appdata\\local\\programs\\python\\python310\\lib\\site-packages (from qiskit-ibm-runtime<=0.29->pennylane-qiskit) (0.61.0)\n",
      "Requirement already satisfied: pydantic>=2.5.0 in c:\\users\\rithvikkoruturu\\appdata\\local\\programs\\python\\python310\\lib\\site-packages (from qiskit-ibm-runtime<=0.29->pennylane-qiskit) (2.10.6)\n",
      "Requirement already satisfied: mpmath<1.4.0,>=1.1.0 in c:\\users\\rithvikkoruturu\\appdata\\local\\programs\\python\\python310\\lib\\site-packages (from sympy<1.13->pennylane-qiskit) (1.3.0)\n",
      "Requirement already satisfied: websockets>=10.0 in c:\\users\\rithvikkoruturu\\appdata\\local\\programs\\python\\python310\\lib\\site-packages (from qiskit-ibm-provider->pennylane-qiskit) (15.0.1)\n",
      "Requirement already satisfied: ibm_cloud_sdk_core<4.0.0,>=3.22.1 in c:\\users\\rithvikkoruturu\\appdata\\local\\programs\\python\\python310\\lib\\site-packages (from ibm-platform-services>=0.22.6->qiskit-ibm-runtime<=0.29->pennylane-qiskit) (3.23.0)\n",
      "Requirement already satisfied: scipy-openblas32>=0.3.26 in c:\\users\\rithvikkoruturu\\appdata\\local\\programs\\python\\python310\\lib\\site-packages (from pennylane-lightning>=0.40->pennylane>=0.38->pennylane-qiskit) (0.3.29.0.0)\n",
      "Requirement already satisfied: annotated-types>=0.6.0 in c:\\users\\rithvikkoruturu\\appdata\\local\\programs\\python\\python310\\lib\\site-packages (from pydantic>=2.5.0->qiskit-ibm-runtime<=0.29->pennylane-qiskit) (0.7.0)\n",
      "Requirement already satisfied: pydantic-core==2.27.2 in c:\\users\\rithvikkoruturu\\appdata\\local\\programs\\python\\python310\\lib\\site-packages (from pydantic>=2.5.0->qiskit-ibm-runtime<=0.29->pennylane-qiskit) (2.27.2)\n",
      "Requirement already satisfied: six>=1.5 in c:\\users\\rithvikkoruturu\\appdata\\local\\programs\\python\\python310\\lib\\site-packages (from python-dateutil>=2.8.0->qiskit<1.3,>=0.32->pennylane-qiskit) (1.17.0)\n",
      "Requirement already satisfied: charset-normalizer<4,>=2 in c:\\users\\rithvikkoruturu\\appdata\\local\\programs\\python\\python310\\lib\\site-packages (from requests->pennylane>=0.38->pennylane-qiskit) (3.4.0)\n",
      "Requirement already satisfied: idna<4,>=2.5 in c:\\users\\rithvikkoruturu\\appdata\\local\\programs\\python\\python310\\lib\\site-packages (from requests->pennylane>=0.38->pennylane-qiskit) (3.10)\n",
      "Requirement already satisfied: certifi>=2017.4.17 in c:\\users\\rithvikkoruturu\\appdata\\local\\programs\\python\\python310\\lib\\site-packages (from requests->pennylane>=0.38->pennylane-qiskit) (2024.12.14)\n",
      "Requirement already satisfied: cryptography>=1.3 in c:\\users\\rithvikkoruturu\\appdata\\local\\programs\\python\\python310\\lib\\site-packages (from requests-ntlm>=1.1.0->qiskit-ibm-runtime<=0.29->pennylane-qiskit) (44.0.2)\n",
      "Requirement already satisfied: pyspnego>=0.4.0 in c:\\users\\rithvikkoruturu\\appdata\\local\\programs\\python\\python310\\lib\\site-packages (from requests-ntlm>=1.1.0->qiskit-ibm-runtime<=0.29->pennylane-qiskit) (0.11.2)\n",
      "Requirement already satisfied: pbr>=2.0.0 in c:\\users\\rithvikkoruturu\\appdata\\local\\programs\\python\\python310\\lib\\site-packages (from stevedore>=3.0.0->qiskit<1.3,>=0.32->pennylane-qiskit) (6.1.1)\n",
      "Requirement already satisfied: astunparse in c:\\users\\rithvikkoruturu\\appdata\\local\\programs\\python\\python310\\lib\\site-packages (from diastatic-malt->pennylane>=0.38->pennylane-qiskit) (1.6.3)\n",
      "Requirement already satisfied: gast in c:\\users\\rithvikkoruturu\\appdata\\local\\programs\\python\\python310\\lib\\site-packages (from diastatic-malt->pennylane>=0.38->pennylane-qiskit) (0.6.0)\n",
      "Requirement already satisfied: termcolor in c:\\users\\rithvikkoruturu\\appdata\\local\\programs\\python\\python310\\lib\\site-packages (from diastatic-malt->pennylane>=0.38->pennylane-qiskit) (2.5.0)\n",
      "Requirement already satisfied: cffi>=1.12 in c:\\users\\rithvikkoruturu\\appdata\\local\\programs\\python\\python310\\lib\\site-packages (from cryptography>=1.3->requests-ntlm>=1.1.0->qiskit-ibm-runtime<=0.29->pennylane-qiskit) (1.17.1)\n",
      "Requirement already satisfied: PyJWT<3.0.0,>=2.8.0 in c:\\users\\rithvikkoruturu\\appdata\\local\\programs\\python\\python310\\lib\\site-packages (from ibm_cloud_sdk_core<4.0.0,>=3.22.1->ibm-platform-services>=0.22.6->qiskit-ibm-runtime<=0.29->pennylane-qiskit) (2.10.1)\n",
      "Requirement already satisfied: setuptools in c:\\users\\rithvikkoruturu\\appdata\\local\\programs\\python\\python310\\lib\\site-packages (from pbr>=2.0.0->stevedore>=3.0.0->qiskit<1.3,>=0.32->pennylane-qiskit) (75.6.0)\n",
      "Requirement already satisfied: sspilib>=0.1.0 in c:\\users\\rithvikkoruturu\\appdata\\local\\programs\\python\\python310\\lib\\site-packages (from pyspnego>=0.4.0->requests-ntlm>=1.1.0->qiskit-ibm-runtime<=0.29->pennylane-qiskit) (0.2.0)\n",
      "Requirement already satisfied: wheel<1.0,>=0.23.0 in c:\\users\\rithvikkoruturu\\appdata\\local\\programs\\python\\python310\\lib\\site-packages (from astunparse->diastatic-malt->pennylane>=0.38->pennylane-qiskit) (0.45.1)\n",
      "Requirement already satisfied: pycparser in c:\\users\\rithvikkoruturu\\appdata\\local\\programs\\python\\python310\\lib\\site-packages (from cffi>=1.12->cryptography>=1.3->requests-ntlm>=1.1.0->qiskit-ibm-runtime<=0.29->pennylane-qiskit) (2.22)\n"
     ]
    },
    {
     "name": "stderr",
     "output_type": "stream",
     "text": [
      "WARNING: Ignoring invalid distribution - (c:\\users\\rithvikkoruturu\\appdata\\local\\programs\\python\\python310\\lib\\site-packages)\n",
      "WARNING: Ignoring invalid distribution -otebook (c:\\users\\rithvikkoruturu\\appdata\\local\\programs\\python\\python310\\lib\\site-packages)\n",
      "WARNING: Ignoring invalid distribution - (c:\\users\\rithvikkoruturu\\appdata\\local\\programs\\python\\python310\\lib\\site-packages)\n",
      "WARNING: Ignoring invalid distribution -otebook (c:\\users\\rithvikkoruturu\\appdata\\local\\programs\\python\\python310\\lib\\site-packages)\n",
      "WARNING: Ignoring invalid distribution - (c:\\users\\rithvikkoruturu\\appdata\\local\\programs\\python\\python310\\lib\\site-packages)\n",
      "WARNING: Ignoring invalid distribution -otebook (c:\\users\\rithvikkoruturu\\appdata\\local\\programs\\python\\python310\\lib\\site-packages)\n",
      "\n",
      "[notice] A new release of pip is available: 24.3.1 -> 25.0.1\n",
      "[notice] To update, run: python.exe -m pip install --upgrade pip\n"
     ]
    },
    {
     "name": "stdout",
     "output_type": "stream",
     "text": [
      "Requirement already satisfied: numpy in c:\\users\\rithvikkoruturu\\appdata\\local\\programs\\python\\python310\\lib\\site-packages (1.26.4)\n"
     ]
    },
    {
     "name": "stderr",
     "output_type": "stream",
     "text": [
      "WARNING: Ignoring invalid distribution - (c:\\users\\rithvikkoruturu\\appdata\\local\\programs\\python\\python310\\lib\\site-packages)\n",
      "WARNING: Ignoring invalid distribution -otebook (c:\\users\\rithvikkoruturu\\appdata\\local\\programs\\python\\python310\\lib\\site-packages)\n",
      "WARNING: Ignoring invalid distribution - (c:\\users\\rithvikkoruturu\\appdata\\local\\programs\\python\\python310\\lib\\site-packages)\n",
      "WARNING: Ignoring invalid distribution -otebook (c:\\users\\rithvikkoruturu\\appdata\\local\\programs\\python\\python310\\lib\\site-packages)\n",
      "WARNING: Ignoring invalid distribution - (c:\\users\\rithvikkoruturu\\appdata\\local\\programs\\python\\python310\\lib\\site-packages)\n",
      "WARNING: Ignoring invalid distribution -otebook (c:\\users\\rithvikkoruturu\\appdata\\local\\programs\\python\\python310\\lib\\site-packages)\n",
      "\n",
      "[notice] A new release of pip is available: 24.3.1 -> 25.0.1\n",
      "[notice] To update, run: python.exe -m pip install --upgrade pip\n"
     ]
    }
   ],
   "source": [
    "!pip install pennylane\n",
    "!pip install pennylane-qiskit\n",
    "!pip install numpy"
   ]
  },
  {
   "cell_type": "code",
   "execution_count": 2,
   "id": "2536729b-bf64-4cd4-8f4b-92d6ee62a546",
   "metadata": {},
   "outputs": [],
   "source": [
    "import pennylane as qml\n",
    "from pennylane import numpy as np"
   ]
  },
  {
   "cell_type": "code",
   "execution_count": 3,
   "id": "45e2b90b-b854-4750-9ebb-26f943735fce",
   "metadata": {},
   "outputs": [],
   "source": [
    "n=3\n",
    "x=np.array([1,0,0])"
   ]
  },
  {
   "cell_type": "code",
   "execution_count": 4,
   "id": "3abc4598-d664-4456-90e6-3fcbc8813e16",
   "metadata": {},
   "outputs": [],
   "source": [
    "dev=qml.device(\"default.qubit\",wires=n+1,shots=4)"
   ]
  },
  {
   "cell_type": "code",
   "execution_count": 5,
   "id": "f483b4eb-2c55-4f9b-80c2-03e90bc3bebc",
   "metadata": {},
   "outputs": [],
   "source": [
    "def oracle3():\n",
    "  for i in range(n):\n",
    "        if x[i] == 1:\n",
    "            qml.CNOT(wires=[i, n])"
   ]
  },
  {
   "cell_type": "code",
   "execution_count": 6,
   "id": "72ce8d87-d973-46a7-ae40-e8a862c0cfca",
   "metadata": {},
   "outputs": [],
   "source": [
    "@qml.qnode(dev)\n",
    "def BVA(x):\n",
    "  for i in range(n):\n",
    "      qml.Hadamard(wires=i)\n",
    "  qml.Hadamard(wires=n)\n",
    "  oracle3()\n",
    "  for i in range(n):\n",
    "        qml.Hadamard(wires=i)\n",
    "  return qml.probs(wires=range(n))"
   ]
  },
  {
   "cell_type": "code",
   "execution_count": 7,
   "id": "e779c2eb-f842-4dae-8315-b59f14e47956",
   "metadata": {},
   "outputs": [
    {
     "name": "stdout",
     "output_type": "stream",
     "text": [
      "[1. 0. 0. 0. 0. 0. 0. 0.]\n"
     ]
    }
   ],
   "source": [
    "res3=BVA(x)\n",
    "print(res3)"
   ]
  },
  {
   "cell_type": "code",
   "execution_count": 8,
   "id": "2c1a798a-3e5e-4abb-acaa-4f4351cfc6a1",
   "metadata": {},
   "outputs": [
    {
     "name": "stdout",
     "output_type": "stream",
     "text": [
      "(<Figure size 600x500 with 1 Axes>, <Axes: >)\n"
     ]
    },
    {
     "data": {
      "image/png": "[encoded data removed]",
      "text/plain": [
       "<Figure size 600x500 with 1 Axes>"
      ]
     },
     "metadata": {},
     "output_type": "display_data"
    }
   ],
   "source": [
    "cd3=qml.draw_mpl(BVA)(oracle3)\n",
    "print(cd3)"
   ]
  }
 ],
 "metadata": {
  "kernelspec": {
   "display_name": "pennylane",
   "language": "python",
   "name": "pennylane"
  },
  "language_info": {
   "codemirror_mode": {
    "name": "ipython",
    "version": 3
   },
   "file_extension": ".py",
   "mimetype": "text/x-python",
   "name": "python",
   "nbconvert_exporter": "python",
   "pygments_lexer": "ipython3",
   "version": "3.10.0"
  },
  "widgets": {
   "application/vnd.jupyter.widget-state+json": {
    "state": {},
    "version_major": 2,
    "version_minor": 0
   }
  }
 },
 "nbformat": 4,
 "nbformat_minor": 5
}
