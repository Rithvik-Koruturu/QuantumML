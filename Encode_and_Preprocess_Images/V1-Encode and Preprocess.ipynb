{
 "cells": [
  {
   "cell_type": "code",
   "execution_count": 2,
   "id": "310db4fa-de2b-44a5-9d1f-fed88ee40bf3",
   "metadata": {},
   "outputs": [
    {
     "name": "stdout",
     "output_type": "stream",
     "text": [
      "Warning: Looks like you're using an outdated `kagglehub` version (installed: 0.3.6), please consider upgrading to the latest version (0.3.10).\n",
      "Path to dataset files: C:\\Users\\Rithvikkoruturu\\.cache\\kagglehub\\datasets\\bhavikjikadara\\dog-and-cat-classification-dataset\\versions\\1\n"
     ]
    }
   ],
   "source": [
    "import kagglehub\n",
    "\n",
    "# Download latest version\n",
    "path = kagglehub.dataset_download(\"bhavikjikadara/dog-and-cat-classification-dataset\")\n",
    "\n",
    "print(\"Path to dataset files:\", path)"
   ]
  },
  {
   "cell_type": "markdown",
   "id": "4ccb4b25-bcc5-41e2-bb90-07964cab00ba",
   "metadata": {},
   "source": [
    "#  Encoding Image Version-1"
   ]
  },
  {
   "cell_type": "code",
   "execution_count": 4,
   "id": "078dcc03-4894-4e85-a79c-4b11537c3031",
   "metadata": {},
   "outputs": [
    {
     "name": "stderr",
     "output_type": "stream",
     "text": [
      "Encoding Cat images:  18%|██████████▌                                              | 185/1000 [00:00<00:03, 216.91it/s]"
     ]
    },
    {
     "name": "stdout",
     "output_type": "stream",
     "text": [
      "Error processing 10125.jpg: OpenCV(4.10.0) D:\\a\\opencv-python\\opencv-python\\opencv\\modules\\imgproc\\src\\resize.cpp:4152: error: (-215:Assertion failed) !ssize.empty() in function 'cv::resize'\n",
      "\n"
     ]
    },
    {
     "name": "stderr",
     "output_type": "stream",
     "text": [
      "Encoding Cat images:  48%|███████████████████████████▋                             | 485/1000 [00:02<00:02, 196.77it/s]"
     ]
    },
    {
     "name": "stdout",
     "output_type": "stream",
     "text": [
      "Error processing 10404.jpg: OpenCV(4.10.0) D:\\a\\opencv-python\\opencv-python\\opencv\\modules\\imgproc\\src\\resize.cpp:4152: error: (-215:Assertion failed) !ssize.empty() in function 'cv::resize'\n",
      "\n"
     ]
    },
    {
     "name": "stderr",
     "output_type": "stream",
     "text": [
      "Encoding Cat images:  59%|█████████████████████████████████▊                       | 594/1000 [00:02<00:01, 204.52it/s]"
     ]
    },
    {
     "name": "stdout",
     "output_type": "stream",
     "text": [
      "Error processing 10501.jpg: OpenCV(4.10.0) D:\\a\\opencv-python\\opencv-python\\opencv\\modules\\imgproc\\src\\resize.cpp:4152: error: (-215:Assertion failed) !ssize.empty() in function 'cv::resize'\n",
      "\n"
     ]
    },
    {
     "name": "stderr",
     "output_type": "stream",
     "text": [
      "Encoding Cat images:  94%|█████████████████████████████████████████████████████▊   | 943/1000 [00:04<00:00, 182.98it/s]"
     ]
    },
    {
     "name": "stdout",
     "output_type": "stream",
     "text": [
      "Error processing 10820.jpg: OpenCV(4.10.0) D:\\a\\opencv-python\\opencv-python\\opencv\\modules\\imgproc\\src\\resize.cpp:4152: error: (-215:Assertion failed) !ssize.empty() in function 'cv::resize'\n",
      "\n"
     ]
    },
    {
     "name": "stderr",
     "output_type": "stream",
     "text": [
      "Encoding Cat images: 100%|████████████████████████████████████████████████████████| 1000/1000 [00:05<00:00, 192.54it/s]\n",
      "Encoding Dog images:  21%|████████████▏                                            | 214/1000 [00:01<00:03, 205.30it/s]"
     ]
    },
    {
     "name": "stdout",
     "output_type": "stream",
     "text": [
      "Error processing 10158.jpg: OpenCV(4.10.0) D:\\a\\opencv-python\\opencv-python\\opencv\\modules\\imgproc\\src\\resize.cpp:4152: error: (-215:Assertion failed) !ssize.empty() in function 'cv::resize'\n",
      "\n"
     ]
    },
    {
     "name": "stderr",
     "output_type": "stream",
     "text": [
      "Encoding Dog images:  49%|███████████████████████████▉                             | 491/1000 [00:02<00:02, 193.45it/s]"
     ]
    },
    {
     "name": "stdout",
     "output_type": "stream",
     "text": [
      "Error processing 10401.jpg: OpenCV(4.10.0) D:\\a\\opencv-python\\opencv-python\\opencv\\modules\\imgproc\\src\\resize.cpp:4152: error: (-215:Assertion failed) !ssize.empty() in function 'cv::resize'\n",
      "\n"
     ]
    },
    {
     "name": "stderr",
     "output_type": "stream",
     "text": [
      "Encoding Dog images:  88%|██████████████████████████████████████████████████       | 878/1000 [00:04<00:00, 208.42it/s]"
     ]
    },
    {
     "name": "stdout",
     "output_type": "stream",
     "text": [
      "Error processing 10747.jpg: OpenCV(4.10.0) D:\\a\\opencv-python\\opencv-python\\opencv\\modules\\imgproc\\src\\resize.cpp:4152: error: (-215:Assertion failed) !ssize.empty() in function 'cv::resize'\n",
      "\n"
     ]
    },
    {
     "name": "stderr",
     "output_type": "stream",
     "text": [
      "Encoding Dog images:  92%|████████████████████████████████████████████████████▌    | 922/1000 [00:04<00:00, 203.06it/s]"
     ]
    },
    {
     "name": "stdout",
     "output_type": "stream",
     "text": [
      "Error processing 10797.jpg: OpenCV(4.10.0) D:\\a\\opencv-python\\opencv-python\\opencv\\modules\\imgproc\\src\\resize.cpp:4152: error: (-215:Assertion failed) !ssize.empty() in function 'cv::resize'\n",
      "\n"
     ]
    },
    {
     "name": "stderr",
     "output_type": "stream",
     "text": [
      "Encoding Dog images: 100%|████████████████████████████████████████████████████████| 1000/1000 [00:04<00:00, 200.54it/s]\n"
     ]
    },
    {
     "name": "stdout",
     "output_type": "stream",
     "text": [
      "Encoding Sucessfull!\n"
     ]
    }
   ],
   "source": [
    "import pennylane as qml\n",
    "from pennylane import numpy as np\n",
    "import cv2\n",
    "import os\n",
    "import pickle\n",
    "from tqdm import tqdm\n",
    "\n",
    "dataset_path = \"D:/datasets/PetImages\"\n",
    "categories = [\"Cat\", \"Dog\"]\n",
    "num_images = 1000 # Encode only 1000 images per category\n",
    "\n",
    "#  Resize Parameters\n",
    "image_size = (255, 255)  \n",
    "# Function to Find Nearest Power of 2\n",
    "def nearest_power_of_2(n):\n",
    "    return 2 ** int(np.ceil(np.log2(n)))\n",
    "\n",
    "# Process Dataset (1000 images per category)\n",
    "quantum_encoded_images = []\n",
    "\n",
    "for category in categories:\n",
    "    folder_path = os.path.join(dataset_path, category)\n",
    "    images = os.listdir(folder_path)[:num_images] \n",
    "\n",
    "    for img_file in tqdm(images, desc=f\"Encoding {category} images\"):\n",
    "        try:\n",
    "            # Load and preprocess image\n",
    "            img_path = os.path.join(folder_path, img_file)\n",
    "            image = cv2.imread(img_path, cv2.IMREAD_GRAYSCALE)\n",
    "            image = cv2.resize(image, image_size)  # Resize to 255x255\n",
    "            image = image.flatten() / 255.0  # Normalize pixel values\n",
    "\n",
    "            # 🔹 Compute nearest power of 2 for padding\n",
    "            target_size = nearest_power_of_2(len(image)) \n",
    "            num_qubits = int(np.log2(target_size))  # log2(65536) = 16\n",
    "\n",
    "            #  Define Quantum Device\n",
    "            dev = qml.device(\"default.qubit\", wires=num_qubits)\n",
    "\n",
    "            # Quantum Encoding Function(Amplitude)\n",
    "            @qml.qnode(dev)\n",
    "            def quantum_image_encoding(image):\n",
    "                qml.AmplitudeEmbedding(features=image, wires=range(num_qubits), normalize=True, pad_with=0.0)\n",
    "                return qml.state()\n",
    "\n",
    "            #  Pad image to target size\n",
    "            padded_image = np.pad(image, (0, target_size - len(image)), 'constant')\n",
    "\n",
    "            # Quantum Encode Image\n",
    "            quantum_state = quantum_image_encoding(padded_image)\n",
    "            quantum_encoded_images.append((category, img_file, quantum_state))\n",
    "        \n",
    "        except Exception as e:\n",
    "            print(f\"Error processing {img_file}: {e}\")\n",
    "\n",
    "#  Save Data Using Pickle you can also try numpy file if your data doesnot require dynamic changes in dimensions \n",
    "with open(\"quantum_encoded_pet_images.pkl\", \"wb\") as f:\n",
    "    pickle.dump(quantum_encoded_images, f)\n",
    "\n",
    "print(\"Encoding Sucessfull!\")\n"
   ]
  },
  {
   "cell_type": "code",
   "execution_count": 6,
   "id": "2028626d-8812-43a0-9dbe-fb4a7c085733",
   "metadata": {},
   "outputs": [
    {
     "name": "stdout",
     "output_type": "stream",
     "text": [
      "\n",
      " Entry 1\n",
      "Category   : Cat\n",
      "📄Filename   : 0.jpg\n",
      " Quantum State (Size: 65536):\n",
      "[0.00433233+0.j 0.00435827+0.j 0.0044361 +0.j 0.00448798+0.j\n",
      " 0.00451392+0.j]\n",
      "\n",
      " Entry 2\n",
      "Category   : Cat\n",
      "📄Filename   : 1.jpg\n",
      " Quantum State (Size: 65536):\n",
      "[0.00192423+0.j 0.00197356+0.j 0.0020229 +0.j 0.0020229 +0.j\n",
      " 0.0020229 +0.j]\n",
      "\n",
      " Entry 3\n",
      "Category   : Cat\n",
      "📄Filename   : 10.jpg\n",
      " Quantum State (Size: 65536):\n",
      "[0.00093711+0.j 0.00074969+0.j 0.00040608+0.j 0.00040608+0.j\n",
      " 0.00081216+0.j]\n",
      "\n",
      " Entry 4\n",
      "Category   : Cat\n",
      "📄Filename   : 100.jpg\n",
      " Quantum State (Size: 65536):\n",
      "[0.00497595+0.j 0.00497595+0.j 0.00497595+0.j 0.00497595+0.j\n",
      " 0.00497595+0.j]\n",
      "\n",
      " Entry 5\n",
      "Category   : Cat\n",
      "📄Filename   : 1000.jpg\n",
      " Quantum State (Size: 65536):\n",
      "[0.00344218+0.j 0.00347319+0.j 0.0035042 +0.j 0.00359723+0.j\n",
      " 0.00369027+0.j]\n"
     ]
    }
   ],
   "source": [
    "with open(\"quantum_encoded_pet_images.pkl\", \"rb\") as f:\n",
    "    loaded_data = pickle.load(f)\n",
    "\n",
    "# Display the head of data\n",
    "for i, (category, filename, quantum_state) in enumerate(loaded_data[:5]):\n",
    "    print(f\"\\n Entry {i+1}\")\n",
    "    print(f\"Category   : {category}\")\n",
    "    print(f\"📄Filename   : {filename}\")\n",
    "    print(f\" Quantum State (Size: {len(quantum_state)}):\")\n",
    "    print(quantum_state[:5])\n",
    "\n"
   ]
  }
 ],
 "metadata": {
  "kernelspec": {
   "display_name": "pennylane",
   "language": "python",
   "name": "pennylane"
  },
  "language_info": {
   "codemirror_mode": {
    "name": "ipython",
    "version": 3
   },
   "file_extension": ".py",
   "mimetype": "text/x-python",
   "name": "python",
   "nbconvert_exporter": "python",
   "pygments_lexer": "ipython3",
   "version": "3.10.0"
  },
  "widgets": {
   "application/vnd.jupyter.widget-state+json": {
    "state": {},
    "version_major": 2,
    "version_minor": 0
   }
  }
 },
 "nbformat": 4,
 "nbformat_minor": 5
}
