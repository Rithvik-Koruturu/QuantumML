{
 "cells": [
  {
   "cell_type": "code",
   "execution_count": 3,
   "id": "ef5143e7-a1e5-4c51-91e2-5ca81d1fe257",
   "metadata": {},
   "outputs": [
    {
     "name": "stdout",
     "output_type": "stream",
     "text": [
      "Encoding Cat images...\n"
     ]
    },
    {
     "name": "stderr",
     "output_type": "stream",
     "text": [
      " 15%|███████████▌                                                                   | 147/1000 [00:05<00:55, 15.36it/s]"
     ]
    },
    {
     "name": "stdout",
     "output_type": "stream",
     "text": [
      "Skipping 10125.jpg, couldn't read the image.\n"
     ]
    },
    {
     "name": "stderr",
     "output_type": "stream",
     "text": [
      " 46%|████████████████████████████████████▎                                          | 459/1000 [00:18<00:19, 27.32it/s]"
     ]
    },
    {
     "name": "stdout",
     "output_type": "stream",
     "text": [
      "Skipping 10404.jpg, couldn't read the image.\n"
     ]
    },
    {
     "name": "stderr",
     "output_type": "stream",
     "text": [
      " 56%|████████████████████████████████████████████▋                                  | 565/1000 [00:22<00:14, 29.63it/s]"
     ]
    },
    {
     "name": "stdout",
     "output_type": "stream",
     "text": [
      "Skipping 10501.jpg, couldn't read the image.\n"
     ]
    },
    {
     "name": "stderr",
     "output_type": "stream",
     "text": [
      " 92%|████████████████████████████████████████████████████████████████████████▌      | 918/1000 [00:36<00:02, 28.12it/s]"
     ]
    },
    {
     "name": "stdout",
     "output_type": "stream",
     "text": [
      "Skipping 10820.jpg, couldn't read the image.\n"
     ]
    },
    {
     "name": "stderr",
     "output_type": "stream",
     "text": [
      "100%|██████████████████████████████████████████████████████████████████████████████| 1000/1000 [00:39<00:00, 25.35it/s]\n"
     ]
    },
    {
     "name": "stdout",
     "output_type": "stream",
     "text": [
      "Encoding Dog images...\n"
     ]
    },
    {
     "name": "stderr",
     "output_type": "stream",
     "text": [
      " 18%|██████████████▌                                                                | 184/1000 [00:06<00:30, 26.64it/s]"
     ]
    },
    {
     "name": "stdout",
     "output_type": "stream",
     "text": [
      "Skipping 10158.jpg, couldn't read the image.\n"
     ]
    },
    {
     "name": "stderr",
     "output_type": "stream",
     "text": [
      " 45%|███████████████████████████████████▋                                           | 452/1000 [00:17<00:20, 26.74it/s]"
     ]
    },
    {
     "name": "stdout",
     "output_type": "stream",
     "text": [
      "Skipping 10401.jpg, couldn't read the image.\n"
     ]
    },
    {
     "name": "stderr",
     "output_type": "stream",
     "text": [
      " 84%|██████████████████████████████████████████████████████████████████▏            | 838/1000 [00:34<00:06, 26.86it/s]"
     ]
    },
    {
     "name": "stdout",
     "output_type": "stream",
     "text": [
      "Skipping 10747.jpg, couldn't read the image.\n"
     ]
    },
    {
     "name": "stderr",
     "output_type": "stream",
     "text": [
      " 89%|██████████████████████████████████████████████████████████████████████▍        | 892/1000 [00:36<00:04, 25.06it/s]"
     ]
    },
    {
     "name": "stdout",
     "output_type": "stream",
     "text": [
      "Skipping 10797.jpg, couldn't read the image.\n"
     ]
    },
    {
     "name": "stderr",
     "output_type": "stream",
     "text": [
      "100%|██████████████████████████████████████████████████████████████████████████████| 1000/1000 [00:40<00:00, 24.46it/s]\n"
     ]
    },
    {
     "name": "stdout",
     "output_type": "stream",
     "text": [
      "Successfully encoded with OpenCV & PCA!\n"
     ]
    }
   ],
   "source": [
    "import cv2\n",
    "import numpy as np\n",
    "import os\n",
    "import pickle\n",
    "from tqdm import tqdm\n",
    "from sklearn.decomposition import PCA\n",
    "\n",
    "# Paths to dataset\n",
    "dataset_path = \"D:/datasets/PetImages\"\n",
    "categories = [\"Cat\", \"Dog\"]\n",
    "image_size = (255, 255)  \n",
    "num_images_per_category = 1000\n",
    "\n",
    "encoded_data = {}\n",
    "\n",
    "# Feature extraction using SIFT\n",
    "def extract_features(image):\n",
    "    sift = cv2.SIFT_create()\n",
    "    keypoints, descriptors = sift.detectAndCompute(image, None)\n",
    "    if descriptors is None:\n",
    "        return np.zeros((1, 128))  # Default zero vector\n",
    "    return descriptors.mean(axis=0)  # Mean feature vector\n",
    "\n",
    "# Process images\n",
    "for category in categories:\n",
    "    path = os.path.join(dataset_path, category)\n",
    "    encoded_data[category] = []\n",
    "    image_files = [f for f in os.listdir(path) if f.endswith(\".jpg\")][:num_images_per_category]\n",
    "\n",
    "    print(f\"Encoding {category} images...\")\n",
    "    for image_file in tqdm(image_files):\n",
    "        try:\n",
    "            image_path = os.path.join(path, image_file)\n",
    "            image = cv2.imread(image_path, cv2.IMREAD_GRAYSCALE)\n",
    "\n",
    "            if image is None:\n",
    "                print(f\"Skipping {image_file}, couldn't read the image.\")\n",
    "                continue\n",
    "\n",
    "            image_resized = cv2.resize(image, image_size)\n",
    "            features = extract_features(image_resized)\n",
    "            encoded_data[category].append(features)\n",
    "\n",
    "        except Exception as e:\n",
    "            print(f\"Error processing {image_file}: {e}\")\n",
    "\n",
    "# Convert to NumPy arrays\n",
    "for category in categories:\n",
    "    encoded_data[category] = np.array(encoded_data[category])\n",
    "\n",
    "# **Dynamically set PCA components based on available samples**\n",
    "for category in categories:\n",
    "    num_samples, num_features = encoded_data[category].shape\n",
    "    n_components = min(100, num_samples, num_features)  # Max 10 or lower if needed\n",
    "\n",
    "    if num_samples > 0:\n",
    "        pca = PCA(n_components=n_components)\n",
    "        encoded_data[category] = pca.fit_transform(encoded_data[category])\n",
    "\n",
    "# Save to pickle file\n",
    "with open(\"quantum_encoded_data.pkl\", \"wb\") as f:\n",
    "    pickle.dump(encoded_data, f)\n",
    "\n",
    "print(\"Successfully encoded with OpenCV & PCA!\")"
   ]
  },
  {
   "cell_type": "code",
   "execution_count": 6,
   "id": "65882368-6caa-4563-9871-834bb347b319",
   "metadata": {},
   "outputs": [
    {
     "name": "stdout",
     "output_type": "stream",
     "text": [
      "Category: Cat\n",
      "[[ 8.8620424e+00 -9.7117243e+00 -3.8725319e+01  7.7342448e+00\n",
      "   7.9561806e+00  4.9307837e+00 -9.6905918e+00 -1.4254787e+00\n",
      "   3.2376220e+00 -1.6229548e+01 -1.8445367e+00 -1.5011266e+01\n",
      "  -1.8739089e+00  7.1779628e+00 -7.9038701e+00 -2.6341131e+00\n",
      "   2.1925609e+00  4.1862330e+00  9.6915236e+00 -1.5032061e-02\n",
      "  -5.7066565e+00  1.7821738e+00 -6.3000722e+00 -5.3234062e+00\n",
      "   5.4986711e+00  3.3018577e+00  5.5910492e+00  8.5512762e+00\n",
      "   5.0935407e+00 -6.7723310e-01  4.8676567e+00  2.0383272e+00\n",
      "   8.9089079e+00 -6.4585800e+00  2.5851490e+00  1.8437130e+00\n",
      "   1.2620090e+00  9.4181767e+00 -2.2615759e+00 -1.6718824e-01\n",
      "  -2.5021476e-01  1.1669850e+00 -2.8296099e+00  2.7958193e+00\n",
      "  -2.4273667e+00 -8.0819559e-01  3.4552686e+00 -1.1230867e+00\n",
      "  -4.8005314e+00 -2.0868735e+00  2.4773388e+00 -3.1134105e+00\n",
      "   3.2106705e+00  1.8157414e+00  5.4195529e-01  4.1216463e-01\n",
      "   1.1742641e+00  6.6985065e-01  5.0612926e+00 -4.3382783e+00\n",
      "  -2.7326720e+00 -1.1242747e+00  1.9959816e+00  6.7830592e-01\n",
      "   1.4461908e+00 -2.2824554e+00  1.1385292e+00  6.8094987e-01\n",
      "  -1.9652872e+00  2.4985025e+00 -2.3357179e+00  3.1239440e+00\n",
      "   1.6127597e+00  6.6841471e-01  5.3108418e-01 -1.8382421e-01\n",
      "   3.6130813e-01 -2.0043066e+00 -5.7950079e-01  2.5375238e-01\n",
      "  -1.1388736e-01 -2.2785817e-01  3.2133326e-01 -6.4424253e-01\n",
      "   1.6480557e+00  1.1169209e+00 -6.6828835e-01 -9.1452193e-01\n",
      "   4.3079153e-01 -3.0495520e+00 -4.3015820e-01  3.7065258e+00\n",
      "  -2.1558959e+00  7.7672994e-01 -4.2294422e-01 -4.7561550e-01\n",
      "   1.3792468e+00  6.3704932e-01 -2.4236966e-02  3.6145246e-01]]\n",
      "--------------------------------------------------\n",
      "Category: Dog\n",
      "[[-2.3384592e+01 -2.6621855e+01  8.3890638e+00 -1.3760302e+01\n",
      "  -4.3453059e+00 -1.0697690e+01 -9.8012867e+00 -3.4049728e+00\n",
      "   2.5962319e+00  4.4324803e-01 -1.1276693e+01 -3.4824808e+00\n",
      "  -3.2407553e+00  2.8231332e-01  1.9914430e+00  4.1019797e+00\n",
      "  -4.2143469e+00  3.6461995e+00  8.8339109e+00  2.9216919e+00\n",
      "  -5.4219443e-02  3.2044010e+00 -4.2801225e-01  2.6737378e+00\n",
      "   5.3006206e+00  3.8792238e-01  1.3484660e+00 -7.8957576e-01\n",
      "  -1.5868318e+00 -2.7739453e+00 -2.5484401e-01  2.5617748e-01\n",
      "  -2.8718786e+00 -2.5330520e+00  1.1052169e+00 -1.2081101e+00\n",
      "   2.8036199e+00 -2.4176700e+00 -1.0775387e+00 -1.1796467e+00\n",
      "  -9.6410310e-01 -1.5306902e+00 -1.1810133e+00 -2.6122671e-01\n",
      "  -2.8967059e-01  1.1636306e+00  1.6115808e-01  5.5175048e-01\n",
      "   7.9946488e-01 -9.6259050e-02 -4.8674962e-01 -5.9868854e-01\n",
      "   5.1004905e-01  1.0015624e+00 -7.6719213e-01 -3.3609509e-01\n",
      "  -1.4051117e+00 -6.5891105e-01 -7.4189436e-01 -1.2213336e+00\n",
      "  -7.9859501e-01  3.7260404e-01  1.0079669e+00 -3.5812187e-01\n",
      "  -1.2751374e+00  7.7866298e-01  1.4437749e+00 -4.9303877e-01\n",
      "   7.4430965e-03 -1.0752460e+00  8.3372283e-01  3.3031458e-01\n",
      "   5.3141373e-01 -1.7257903e+00 -2.1442277e+00  8.5931557e-01\n",
      "   7.3710698e-01 -6.2918293e-01 -4.5400330e-01  9.6016461e-01\n",
      "  -1.2604487e+00  4.7896358e-01 -1.5511705e-01 -1.1917113e+00\n",
      "  -7.4500543e-01 -2.1114338e-02  1.3595695e-02 -2.1543217e+00\n",
      "   2.9417041e-01  2.5396949e-01  1.7086720e-01 -8.4728867e-01\n",
      "   1.0492945e+00  4.9371070e-01  4.7688233e-03 -1.0035280e+00\n",
      "  -4.3381748e-01  4.4312250e-02  2.8966609e-01 -8.0174021e-02]]\n",
      "--------------------------------------------------\n"
     ]
    }
   ],
   "source": [
    "import pickle\n",
    "\n",
    "#display head of data \n",
    "with open(\"quantum_encoded_data.pkl\", \"rb\") as f:\n",
    "    quantum_data = pickle.load(f)\n",
    "\n",
    "# Display the first few entries\n",
    "for category, data in quantum_data.items():\n",
    "    print(f\"Category: {category}\")\n",
    "    print(data[:1]) \n",
    "    print(\"-\" * 50)"
   ]
  },
  {
   "cell_type": "code",
   "execution_count": null,
   "id": "07b938d4-c0ab-4eba-9980-b59185153298",
   "metadata": {},
   "outputs": [],
   "source": []
  }
 ],
 "metadata": {
  "kernelspec": {
   "display_name": "pennylane",
   "language": "python",
   "name": "pennylane"
  },
  "language_info": {
   "codemirror_mode": {
    "name": "ipython",
    "version": 3
   },
   "file_extension": ".py",
   "mimetype": "text/x-python",
   "name": "python",
   "nbconvert_exporter": "python",
   "pygments_lexer": "ipython3",
   "version": "3.10.0"
  },
  "widgets": {
   "application/vnd.jupyter.widget-state+json": {
    "state": {},
    "version_major": 2,
    "version_minor": 0
   }
  }
 },
 "nbformat": 4,
 "nbformat_minor": 5
}
